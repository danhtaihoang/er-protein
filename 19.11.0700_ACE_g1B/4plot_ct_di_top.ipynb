{
 "cells": [
  {
   "cell_type": "code",
   "execution_count": 1,
   "metadata": {},
   "outputs": [],
   "source": [
    "import sys\n",
    "import numpy as np\n",
    "import matplotlib.pyplot as plt\n",
    "%matplotlib inline"
   ]
  },
  {
   "cell_type": "code",
   "execution_count": 2,
   "metadata": {},
   "outputs": [],
   "source": [
    "#pfam = 'PF00504'\n",
    "#s = np.loadtxt('pfam_2_40k.txt',dtype='str')\n",
    "#pfam_list = s[:,0]\n",
    "pfam_list = ['PF00200']"
   ]
  },
  {
   "cell_type": "code",
   "execution_count": 3,
   "metadata": {},
   "outputs": [],
   "source": [
    "def di_top(d,top):\n",
    "    # find value of top biggest\n",
    "    d1 = d.copy()\n",
    "    np.fill_diagonal(d1, 0)\n",
    "    #print(d1)\n",
    "    \n",
    "    a = d1.reshape((-1,))\n",
    "    #print(a)    \n",
    "    a = np.sort(a)[::-1] # descreasing sort\n",
    "    #print(a)\n",
    "\n",
    "    top_value = a[top]\n",
    "    #print(top_value)\n",
    "       \n",
    "    # fill the top largest to be 1, other 0\n",
    "    top_pos = d1 > top_value\n",
    "    #print(top_pos)\n",
    "    d1[top_pos] = 1.\n",
    "    d1[~top_pos] = 0.\n",
    "    #print(d1)\n",
    "    \n",
    "    xy = np.argwhere(d1==1)  \n",
    "    return xy"
   ]
  },
  {
   "cell_type": "code",
   "execution_count": 4,
   "metadata": {},
   "outputs": [],
   "source": [
    "top_list = [40,60,80,100]\n",
    "    \n",
    "for pfam in pfam_list:\n",
    "    ct = np.loadtxt('../pfam_50_80pos/%s_ct.txt'%pfam)\n",
    "    di = np.loadtxt('%s/di.dat'%pfam)\n",
    "\n",
    "    nx,ny = 4,5\n",
    "    nfig = nx*ny\n",
    "    fig, ax = plt.subplots(ny,nx,figsize=(nx*3.,ny*2.8))\n",
    "\n",
    "    for j,cutoff in enumerate([3,4,5,6,7]):\n",
    "        ct_top = np.argwhere(ct < cutoff)\n",
    "\n",
    "        for i,top in enumerate(top_list):\n",
    "            xy_di = di_top(di,top)\n",
    "\n",
    "            #ax[j,i].plot(ct_top[:,0],ct_top[:,1],'ko',markersize=2)\n",
    "            #ax[j,i].plot(xy_di[:,0],xy_di[:,1],'ro',markersize=4)\n",
    "            ax[j,i].plot(ct_top[:,0],ct_top[:,1],'co',markersize=5,mfc='none',label='contact map')\n",
    "            ax[j,i].plot(xy_di[:,0],xy_di[:,1],'r*',markersize=6,label='direct information')\n",
    "\n",
    "    for i in range(4):\n",
    "        ax[0,i].set_title('top: %i'%top_list[i])\n",
    "\n",
    "    plt.tight_layout(h_pad=1, w_pad=1.5)\n",
    "    \n",
    "    plt.savefig('%s/ct_di_top.pdf'%pfam,format='pdf', dpi=50)\n",
    "    plt.close()\n",
    "    \n",
    "    \n",
    "    #===============================================================   \n",
    "    # map\n",
    "    plt.figure(figsize=(8,3.2))\n",
    "\n",
    "    plt.subplot2grid((1,2),(0,0))\n",
    "    plt.title('contact map')\n",
    "    plt.imshow(ct,cmap='rainbow_r',origin='lower')\n",
    "    plt.xlabel('i')\n",
    "    plt.ylabel('j')\n",
    "    plt.clim(0,10)\n",
    "    plt.colorbar(fraction=0.045, pad=0.05)\n",
    "\n",
    "    plt.subplot2grid((1,2),(0,1))\n",
    "    plt.title('direct info')\n",
    "    plt.imshow(di,cmap='rainbow',origin='lower')\n",
    "    plt.xlabel('i')\n",
    "    plt.ylabel('j')\n",
    "    plt.clim(0,0.01)\n",
    "    plt.colorbar(fraction=0.045, pad=0.03)\n",
    "\n",
    "    plt.tight_layout(h_pad=1, w_pad=1.5)\n",
    "    plt.savefig('%s/ct_di.pdf'%pfam,format='pdf', dpi=100)  \n",
    "    \n",
    "    plt.close()"
   ]
  },
  {
   "cell_type": "code",
   "execution_count": null,
   "metadata": {},
   "outputs": [],
   "source": []
  }
 ],
 "metadata": {
  "kernelspec": {
   "display_name": "Python 3",
   "language": "python",
   "name": "python3"
  },
  "language_info": {
   "codemirror_mode": {
    "name": "ipython",
    "version": 3
   },
   "file_extension": ".py",
   "mimetype": "text/x-python",
   "name": "python",
   "nbconvert_exporter": "python",
   "pygments_lexer": "ipython3",
   "version": "3.7.3"
  }
 },
 "nbformat": 4,
 "nbformat_minor": 2
}
