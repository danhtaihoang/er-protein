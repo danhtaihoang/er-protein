{
 "cells": [
  {
   "cell_type": "code",
   "execution_count": 1,
   "metadata": {},
   "outputs": [],
   "source": [
    "import sys\n",
    "import numpy as np\n",
    "#import pandas as pd\n",
    "from direct_info import direct_info"
   ]
  },
  {
   "cell_type": "code",
   "execution_count": 2,
   "metadata": {},
   "outputs": [],
   "source": [
    "np.random.seed(1)"
   ]
  },
  {
   "cell_type": "code",
   "execution_count": 3,
   "metadata": {},
   "outputs": [],
   "source": [
    "pfam_id = 'PF00200'"
   ]
  },
  {
   "cell_type": "code",
   "execution_count": 4,
   "metadata": {},
   "outputs": [],
   "source": [
    "s0 = np.loadtxt('../pfam_50_80pos/%s_s0.txt'%(pfam_id)).astype(int)\n",
    "\n",
    "n_var = s0.shape[1]\n",
    "mx = np.array([len(np.unique(s0[:,i])) for i in range(n_var)])\n",
    "mx_sum = mx.sum()"
   ]
  },
  {
   "cell_type": "code",
   "execution_count": 5,
   "metadata": {},
   "outputs": [
    {
     "name": "stdout",
     "output_type": "stream",
     "text": [
      "(1225, 361)\n",
      "(1225, 361)\n"
     ]
    }
   ],
   "source": [
    "ia_tab = np.loadtxt('%s/ia_tab.dat'%pfam_id).astype(int)\n",
    "jb_tab = np.loadtxt('%s/jb_tab.dat'%pfam_id).astype(int)\n",
    "\n",
    "print(ia_tab.shape)\n",
    "print(jb_tab.shape)"
   ]
  },
  {
   "cell_type": "code",
   "execution_count": 6,
   "metadata": {
    "scrolled": false
   },
   "outputs": [],
   "source": [
    "w = np.zeros((mx_sum,mx_sum))\n",
    "\n",
    "with open('%s/w_pred.j'%pfam_id) as file:    \n",
    "    for irow,line in enumerate(file):\n",
    "        \n",
    "        if irow >= n_var: # skip the local field part        \n",
    "            irow1 = irow - n_var\n",
    "            a = [float(x) for x in line.split('\\t')]\n",
    "\n",
    "            for icol in range(len(a)):\n",
    "                ia = ia_tab[irow1,icol]\n",
    "                jb = jb_tab[irow1,icol]\n",
    "\n",
    "                w[ia,jb] = a[icol]\n",
    "                \n",
    "w = w + w.T                "
   ]
  },
  {
   "cell_type": "code",
   "execution_count": 7,
   "metadata": {},
   "outputs": [],
   "source": [
    "# direct information\n",
    "di = direct_info(s0,w)\n",
    "np.savetxt('%s/di.dat'%pfam_id,di,fmt='% 3.8f')"
   ]
  },
  {
   "cell_type": "code",
   "execution_count": null,
   "metadata": {},
   "outputs": [],
   "source": []
  }
 ],
 "metadata": {
  "kernelspec": {
   "display_name": "Python 3",
   "language": "python",
   "name": "python3"
  },
  "language_info": {
   "codemirror_mode": {
    "name": "ipython",
    "version": 3
   },
   "file_extension": ".py",
   "mimetype": "text/x-python",
   "name": "python",
   "nbconvert_exporter": "python",
   "pygments_lexer": "ipython3",
   "version": "3.7.3"
  }
 },
 "nbformat": 4,
 "nbformat_minor": 2
}
